{
  "nbformat": 4,
  "nbformat_minor": 0,
  "metadata": {
    "colab": {
      "provenance": [],
      "authorship_tag": "ABX9TyPeB7Dcs2/EWydKYhTbBF15",
      "include_colab_link": true
    },
    "kernelspec": {
      "name": "python3",
      "display_name": "Python 3"
    },
    "language_info": {
      "name": "python"
    }
  },
  "cells": [
    {
      "cell_type": "markdown",
      "metadata": {
        "id": "view-in-github",
        "colab_type": "text"
      },
      "source": [
        "<a href=\"https://colab.research.google.com/github/TifanyUgaldeM/CLASE-INTELIGENCIA-EN-REDES-DE-DATOS/blob/main/Untitled0.ipynb\" target=\"_parent\"><img src=\"https://colab.research.google.com/assets/colab-badge.svg\" alt=\"Open In Colab\"/></a>"
      ]
    },
    {
      "cell_type": "code",
      "execution_count": 1,
      "metadata": {
        "colab": {
          "base_uri": "https://localhost:8080/"
        },
        "id": "DaW70nxFvgi_",
        "outputId": "13f9476a-2856-48b6-ebb8-045d9261516e"
      },
      "outputs": [
        {
          "output_type": "stream",
          "name": "stdout",
          "text": [
            "File: Datasets/clickbait-headlines.tsv \n",
            "Size: 0.54 MBs\n"
          ]
        }
      ],
      "source": [
        "import os\n",
        "dataset_filename = \"Datasets/clickbait-headlines.tsv\"\n",
        "print(\"File: {} \\nSize: {} MBs\".format(dataset_filename, round(os.path.getsize(dataset_filename)/1024/1024, 2)))\n",
        "\n"
      ]
    },
    {
      "cell_type": "code",
      "source": [
        "import csv\n",
        "\n",
        "data = []\n",
        "labels = []\n",
        "\n",
        "with open(dataset_filename,encoding=\"utf8\") as f:\n",
        "    reader = csv.reader(f, delimiter=\"\\t\")\n",
        "    for line in reader:\n",
        "        try:\n",
        "            data.append(line[0])\n",
        "            labels.append(line[1])\n",
        "        except Exception as e:\n",
        "            print(e)\n",
        "\n",
        "print(data[:3])\n",
        "print(labels[:3])\n"
      ],
      "metadata": {
        "colab": {
          "base_uri": "https://localhost:8080/"
        },
        "id": "z47g5xKOzOXF",
        "outputId": "766db520-43d1-4072-a3d7-72059427136f"
      },
      "execution_count": 2,
      "outputs": [
        {
          "output_type": "stream",
          "name": "stdout",
          "text": [
            "[\"Egypt's top envoy in Iraq confirmed killed\", 'Carter: Race relations in Palestine are worse than apartheid', 'After Years Of Dutiful Service, The Shiba Who Ran A Tobacco Shop Retires']\n",
            "['0', '0', '1']\n"
          ]
        }
      ]
    },
    {
      "cell_type": "code",
      "source": [
        "%%time\n",
        "from sklearn.feature_extraction.text import TfidfVectorizer\n",
        "\n",
        "vectorizer = TfidfVectorizer()\n",
        "vectors = vectorizer.fit_transform(data)\n",
        "print(\"The dimensions of our vectors:\")\n",
        "print(vectors.shape)\n",
        "print(\"- - -\")\n"
      ],
      "metadata": {
        "colab": {
          "base_uri": "https://localhost:8080/"
        },
        "id": "JrqpyBQ9zZq2",
        "outputId": "899f2a83-37b1-4dd2-a29a-dbe9f66889b5"
      },
      "execution_count": 3,
      "outputs": [
        {
          "output_type": "stream",
          "name": "stdout",
          "text": [
            "The dimensions of our vectors:\n",
            "(10000, 13169)\n",
            "- - -\n",
            "CPU times: user 3.1 s, sys: 265 ms, total: 3.37 s\n",
            "Wall time: 7.59 s\n"
          ]
        }
      ]
    },
    {
      "cell_type": "code",
      "source": [
        "print(\"The data type of our vectors\")\n",
        "print(type(vectors))\n",
        "print(\"- - -\")\n",
        "print(\"The size of our vectors (MB):\")\n",
        "print(vectors.data.nbytes/1024/1024)\n",
        "print(\"- - -\")\n",
        "print(\"The size of our vectors in dense format (MB):\")\n",
        "print(vectors.todense().nbytes/1024/1024)\n",
        "print(\"- - - \")\n",
        "print(\"Number of non zero elements in our vectors\")\n",
        "print(vectors.nnz)\n",
        "print(\"- - -\")\n"
      ],
      "metadata": {
        "colab": {
          "base_uri": "https://localhost:8080/"
        },
        "id": "t6J6sDeez7P9",
        "outputId": "797129c2-0a4b-4ad5-c9a0-165bdb140a98"
      },
      "execution_count": 4,
      "outputs": [
        {
          "output_type": "stream",
          "name": "stdout",
          "text": [
            "The data type of our vectors\n",
            "<class 'scipy.sparse._csr.csr_matrix'>\n",
            "- - -\n",
            "The size of our vectors (MB):\n",
            "0.6759414672851562\n",
            "- - -\n",
            "The size of our vectors in dense format (MB):\n",
            "1004.7149658203125\n",
            "- - - \n",
            "Number of non zero elements in our vectors\n",
            "88597\n",
            "- - -\n"
          ]
        }
      ]
    },
    {
      "cell_type": "code",
      "source": [
        "from sklearn.model_selection import train_test_split\n",
        "\n",
        "X_train, X_test, y_train, y_test = train_test_split(vectors,\n",
        "  labels, test_size=0.2)\n",
        "\n",
        "print(X_train.shape)\n",
        "print(X_test.shape)\n"
      ],
      "metadata": {
        "colab": {
          "base_uri": "https://localhost:8080/"
        },
        "id": "mTh16O6K0NsG",
        "outputId": "1f3b3c51-fd48-43b3-aada-eda782ddcc70"
      },
      "execution_count": 5,
      "outputs": [
        {
          "output_type": "stream",
          "name": "stdout",
          "text": [
            "(8000, 13169)\n",
            "(2000, 13169)\n"
          ]
        }
      ]
    },
    {
      "cell_type": "code",
      "source": [
        "%%time\n",
        "\n",
        "from sklearn.svm import LinearSVC\n",
        "\n",
        "svm_classifier = LinearSVC()\n",
        "svm_classifier.fit(X_train, y_train)\n",
        "\n",
        "predictions = svm_classifier.predict(X_test)\n"
      ],
      "metadata": {
        "colab": {
          "base_uri": "https://localhost:8080/"
        },
        "id": "vyeVUdRQ0aGe",
        "outputId": "d6ba3ae9-f560-429a-d714-8fdf792f768c"
      },
      "execution_count": 6,
      "outputs": [
        {
          "output_type": "stream",
          "name": "stdout",
          "text": [
            "CPU times: user 235 ms, sys: 37.5 ms, total: 272 ms\n",
            "Wall time: 505 ms\n"
          ]
        }
      ]
    },
    {
      "cell_type": "code",
      "source": [
        "print(\"prediction, label\")\n",
        "for i in range(10):\n",
        "    print(y_test[i], predictions[i])\n"
      ],
      "metadata": {
        "colab": {
          "base_uri": "https://localhost:8080/"
        },
        "id": "nQv6zOuV0fY1",
        "outputId": "c2a4addd-b28a-4ba2-9d30-93401c5d7ff9"
      },
      "execution_count": 7,
      "outputs": [
        {
          "output_type": "stream",
          "name": "stdout",
          "text": [
            "prediction, label\n",
            "0 0\n",
            "1 1\n",
            "0 0\n",
            "0 0\n",
            "1 1\n",
            "0 0\n",
            "0 0\n",
            "0 0\n",
            "0 0\n",
            "1 1\n"
          ]
        }
      ]
    },
    {
      "cell_type": "code",
      "source": [
        "from sklearn.metrics import accuracy_score, classification_report\n",
        "\n",
        "print(\"Accuracy: {}\\n\".format(accuracy_score(y_test, predictions)))\n",
        "print(classification_report(y_test, predictions))\n"
      ],
      "metadata": {
        "colab": {
          "base_uri": "https://localhost:8080/"
        },
        "id": "oGvmtbDT0qM0",
        "outputId": "75cb51d3-d479-4747-8cca-ce71e7ca0708"
      },
      "execution_count": 8,
      "outputs": [
        {
          "output_type": "stream",
          "name": "stdout",
          "text": [
            "Accuracy: 0.96\n",
            "\n",
            "              precision    recall  f1-score   support\n",
            "\n",
            "           0       0.95      0.97      0.96       979\n",
            "           1       0.97      0.95      0.96      1021\n",
            "\n",
            "    accuracy                           0.96      2000\n",
            "   macro avg       0.96      0.96      0.96      2000\n",
            "weighted avg       0.96      0.96      0.96      2000\n",
            "\n"
          ]
        }
      ]
    }
  ]
}